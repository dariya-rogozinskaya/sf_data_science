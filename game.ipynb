{
 "cells": [],
 "metadata": {
  "kernelspec": {
   "display_name": "Python 3.8.7 64-bit",
   "language": "python",
   "name": "python3"
  },
  "language_info": {
   "name": "python",
   "version": "3.8.7"
  },
  "orig_nbformat": 4,
  "vscode": {
   "interpreter": {
    "hash": "ce1ad3483f80b34a1c9882a9f1757c7f3533422927f581bbe2c2df87f6bbbd8a"
   }
  }
 },
 "nbformat": 4,
 "nbformat_minor": 2
}
